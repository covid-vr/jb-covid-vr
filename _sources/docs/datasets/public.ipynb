{
 "cells": [
  {
   "cell_type": "markdown",
   "id": "37a727f5",
   "metadata": {},
   "source": [
    "(public-dataset)=\n",
    "\n",
    "# Public Dataset\n",
    "The COVID-CT-MD dataset is composed of 307 labeled CT scans that are used for model training and validation based on a stratified random split: 30% of these CT scans are randomly selected as the validation set, and the remaining are used as the train set. In addition to the train/validation set, the SPGC-ICCASP competition released the SPGC-COVID Test Set (HEIDARIAN et al., 2021), with four independent test sets for models’ evaluation. Three were used to calculate the competition’s results and are applied for performance assessment in our work to enhance comparability with previous approaches. We do not use the fourth Test Set because we would not have fair comparisons concerning the results reported by the competition.\n",
    "\n",
    "\n",
    "```{figure} /_static/lecture_specific/datasets/table-public.png\n",
    "---\n",
    "name: table-public\n",
    "scale: 50%\n",
    "---\n",
    "\n",
    "Public dataset: COVID-CT-MD, number of CT images obtained from each source, and distribution by class.\n",
    "\n",
    "```\n",
    "\n",
    "```{figure} /_static/lecture_specific/datasets/public-samples.png\n",
    "---\n",
    "name: public-samples\n",
    "scale: 50%\n",
    "---\n",
    "\n",
    "Sample CT slices from the first three test sets. In Test set 1, the noise level is high. In Test 2, some cases reveal cardiovascular-related complications. In Test 3, the image quality and contrast are higher compared to other test sets.\n",
    "\n",
    "```"
   ]
  }
 ],
 "metadata": {
  "jupytext": {
   "text_representation": {
    "extension": ".md",
    "format_name": "myst"
   }
  },
  "kernelspec": {
   "display_name": "Python 3",
   "language": "python",
   "name": "python3"
  },
  "language_info": {
   "codemirror_mode": {
    "name": "ipython",
    "version": 3
   },
   "file_extension": ".py",
   "mimetype": "text/x-python",
   "name": "python",
   "nbconvert_exporter": "python",
   "pygments_lexer": "ipython3",
   "version": "3.8.13"
  },
  "source_map": [
   10
  ]
 },
 "nbformat": 4,
 "nbformat_minor": 5
}