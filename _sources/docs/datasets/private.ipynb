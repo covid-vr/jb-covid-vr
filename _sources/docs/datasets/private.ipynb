{
 "cells": [
  {
   "cell_type": "markdown",
   "id": "16e6d314",
   "metadata": {},
   "source": [
    "(private-dataset)=\n",
    "\n",
    "# Private Dataset\n",
    "The private datasets were retrospectively obtained from patients admitted to two Brazilian hospitals in Porto Alegre: a public institution, Hospital Moinhos de Vento (HMV), and a private institution, Hospital de Clínicas de Porto Alegre (HCPA). The HMV dataset contains 284 CT scans from patients admitted between March and May 2020, whereas the HCPA dataset comprises 105 CT scans collected from March to June 2020. Both datasets have patient-level annotations provided by expert radiologists, following the Radiology Society of North America (RSNA) standard for reporting CT imaging findings potentially attributable to COVID-19.\n",
    "\n",
    "\n",
    "```{figure} /_static/lecture_specific/datasets/table-private.png\n",
    "---\n",
    "name: table-private\n",
    "scale: 70%\n",
    "---\n",
    "\n",
    "Private Dataset, number of CT images obtained from each source, and distribution by class.\n",
    "\n",
    "```"
   ]
  }
 ],
 "metadata": {
  "jupytext": {
   "text_representation": {
    "extension": ".md",
    "format_name": "myst"
   }
  },
  "kernelspec": {
   "display_name": "Python 3",
   "language": "python",
   "name": "python3"
  },
  "language_info": {
   "codemirror_mode": {
    "name": "ipython",
    "version": 3
   },
   "file_extension": ".py",
   "mimetype": "text/x-python",
   "name": "python",
   "nbconvert_exporter": "python",
   "pygments_lexer": "ipython3",
   "version": "3.8.13"
  },
  "source_map": [
   10
  ]
 },
 "nbformat": 4,
 "nbformat_minor": 5
}