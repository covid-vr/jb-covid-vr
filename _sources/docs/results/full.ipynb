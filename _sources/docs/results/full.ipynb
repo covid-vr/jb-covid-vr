{
 "cells": [
  {
   "cell_type": "markdown",
   "id": "c3294992",
   "metadata": {},
   "source": [
    "(full-results)=\n",
    "\n",
    "# Full Results\n",
    "\n",
    "In this section we present the obtained metrics for all experiments in ternary classification task reported. {numref}`Figure {number} <table-full-micro>` shows all metrics by classes and micro-average and {numref}`Figure {number} <table-full-macro>` complements this information with marco-average values.\n",
    "\n",
    "```{figure} /_static/lecture_specific/results/table-full-micro.png\n",
    "---\n",
    "name: table-full-micro\n",
    "scale: 70%\n",
    "---\n",
    "\n",
    "Comparison of principal results obtained in this work using the Public Dataset COVID-CT-MD in ternary classification. All values in table are in percentage.\n",
    "```\n",
    "\n",
    "```{figure} /_static/lecture_specific/results/table-full-macro.png\n",
    "---\n",
    "name: table-full-macro\n",
    "scale: 50%\n",
    "---\n",
    "\n",
    "Comparison of principal results obtained in this work using the Public Dataset COVID-CT-MD. All values in table are in percentage, continue from last Table with Macro values.\n",
    "```"
   ]
  }
 ],
 "metadata": {
  "jupytext": {
   "text_representation": {
    "extension": ".md",
    "format_name": "myst"
   }
  },
  "kernelspec": {
   "display_name": "Python 3",
   "language": "python",
   "name": "python3"
  },
  "language_info": {
   "codemirror_mode": {
    "name": "ipython",
    "version": 3
   },
   "file_extension": ".py",
   "mimetype": "text/x-python",
   "name": "python",
   "nbconvert_exporter": "python",
   "pygments_lexer": "ipython3",
   "version": "3.8.13"
  },
  "source_map": [
   10
  ]
 },
 "nbformat": 4,
 "nbformat_minor": 5
}